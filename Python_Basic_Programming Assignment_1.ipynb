{
 "cells": [
  {
   "cell_type": "markdown",
   "id": "7f8daf95",
   "metadata": {},
   "source": [
    "__1. Write a Python program to print \"Hello Python\"?__"
   ]
  },
  {
   "cell_type": "code",
   "execution_count": 1,
   "id": "02d886ab",
   "metadata": {},
   "outputs": [
    {
     "name": "stdout",
     "output_type": "stream",
     "text": [
      "Hello Python\n"
     ]
    }
   ],
   "source": [
    "print('Hello Python')"
   ]
  },
  {
   "cell_type": "markdown",
   "id": "2a78345a",
   "metadata": {},
   "source": [
    "__2. Write a Python program to do arithmetical operations addition and division.?__"
   ]
  },
  {
   "cell_type": "code",
   "execution_count": 3,
   "id": "a572cf73",
   "metadata": {},
   "outputs": [
    {
     "data": {
      "text/plain": [
       "16"
      ]
     },
     "execution_count": 3,
     "metadata": {},
     "output_type": "execute_result"
    }
   ],
   "source": [
    "# Addition\n",
    "8 + 8"
   ]
  },
  {
   "cell_type": "code",
   "execution_count": 8,
   "id": "46264a9f",
   "metadata": {},
   "outputs": [
    {
     "data": {
      "text/plain": [
       "4.0"
      ]
     },
     "execution_count": 8,
     "metadata": {},
     "output_type": "execute_result"
    }
   ],
   "source": [
    "# Division\n",
    " \n",
    "8 / 2"
   ]
  },
  {
   "cell_type": "markdown",
   "id": "f5dc67f0",
   "metadata": {},
   "source": [
    "__3. Write a Python program to find the area of a triangle?__"
   ]
  },
  {
   "cell_type": "code",
   "execution_count": 18,
   "id": "702004d5",
   "metadata": {},
   "outputs": [
    {
     "name": "stdout",
     "output_type": "stream",
     "text": [
      "the area of triangle of is 72.62\n"
     ]
    }
   ],
   "source": [
    "a = 10\n",
    "b = 15\n",
    "c = 20\n",
    "\n",
    "s = (a + b + c)/2\n",
    "\n",
    "Area = (s*(s-a)*(s-b)*(s-c)) ** 0.5\n",
    "\n",
    "print('the area of triangle of is {:0.2f}'.format(Area))"
   ]
  },
  {
   "cell_type": "markdown",
   "id": "1ccf09f3",
   "metadata": {},
   "source": [
    "__4. Write a Python program to swap two variables?__"
   ]
  },
  {
   "cell_type": "code",
   "execution_count": 21,
   "id": "63dd41bd",
   "metadata": {},
   "outputs": [
    {
     "name": "stdout",
     "output_type": "stream",
     "text": [
      "20\n",
      "10\n"
     ]
    }
   ],
   "source": [
    "x = 10\n",
    "y = 20\n",
    "\n",
    "# Swap two variables\n",
    "y,x = x, y\n",
    "\n",
    "print(x)\n",
    "print(y)"
   ]
  },
  {
   "cell_type": "markdown",
   "id": "2457d230",
   "metadata": {},
   "source": [
    "__5. Write a Python program to generate a random number?__"
   ]
  },
  {
   "cell_type": "code",
   "execution_count": 43,
   "id": "f7bb3e95",
   "metadata": {},
   "outputs": [
    {
     "name": "stdout",
     "output_type": "stream",
     "text": [
      "4\n",
      "1.8765667707539255\n"
     ]
    }
   ],
   "source": [
    "import numpy as np\n",
    "\n",
    "# generate random integer with in given range\n",
    "print(np.random.randint(1, 7))\n",
    "# generate random number as per standard normal distribution\n",
    "print(np.random.randn())"
   ]
  }
 ],
 "metadata": {
  "kernelspec": {
   "display_name": "Python 3 (ipykernel)",
   "language": "python",
   "name": "python3"
  },
  "language_info": {
   "codemirror_mode": {
    "name": "ipython",
    "version": 3
   },
   "file_extension": ".py",
   "mimetype": "text/x-python",
   "name": "python",
   "nbconvert_exporter": "python",
   "pygments_lexer": "ipython3",
   "version": "3.9.7"
  }
 },
 "nbformat": 4,
 "nbformat_minor": 5
}
