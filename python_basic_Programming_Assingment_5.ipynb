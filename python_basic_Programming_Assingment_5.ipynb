{
 "cells": [
  {
   "cell_type": "markdown",
   "id": "7d1dd9ed",
   "metadata": {},
   "source": [
    "# 1.\tWrite a Python Program to Find LCM?"
   ]
  },
  {
   "cell_type": "code",
   "execution_count": 8,
   "id": "19b93303",
   "metadata": {},
   "outputs": [],
   "source": [
    "def get_lcm(num1, num2):\n",
    "    \"This fun retrun LCM of given number\"\n",
    "    if num1 > num2 :\n",
    "        greater = num1\n",
    "    else:\n",
    "        greater = num2\n",
    "    \n",
    "    while(True):\n",
    "        if((greater % num1 == 0) and (greater % num2 == 0)):\n",
    "            lcm = greater\n",
    "            break\n",
    "        greater += 1\n",
    "    return lcm"
   ]
  },
  {
   "cell_type": "code",
   "execution_count": 11,
   "id": "0d85b2a6",
   "metadata": {},
   "outputs": [
    {
     "name": "stdout",
     "output_type": "stream",
     "text": [
      "LCM of 15 and 20 is 60\n"
     ]
    }
   ],
   "source": [
    "num1 = 15\n",
    "num2 = 20\n",
    "print(f\"LCM of {num1} and {num2} is\", get_lcm(num1,num2))"
   ]
  },
  {
   "cell_type": "markdown",
   "id": "993c3558",
   "metadata": {},
   "source": [
    "# 2.\tWrite a Python Program to Find HCF?"
   ]
  },
  {
   "cell_type": "code",
   "execution_count": 13,
   "id": "604e6cd1",
   "metadata": {},
   "outputs": [],
   "source": [
    "def get_hcf(x, y):\n",
    "    \"This fun return HCF of given number\"\n",
    "    if x > y:\n",
    "        smaller = y\n",
    "    else:\n",
    "        smaller = x\n",
    "    for i in range(1, smaller+1):\n",
    "        if ((x % i == 0) and (y % i == 0)):\n",
    "            hcf = i\n",
    "    return hcf"
   ]
  },
  {
   "cell_type": "code",
   "execution_count": 16,
   "id": "9d2f0a57",
   "metadata": {},
   "outputs": [
    {
     "name": "stdout",
     "output_type": "stream",
     "text": [
      "HCF of 30 and 25 is 5\n"
     ]
    }
   ],
   "source": [
    "num1 = 30\n",
    "num2 = 25\n",
    "print(f\"HCF of {num1} and {num2} is\", get_hcf(num1,num2))"
   ]
  },
  {
   "cell_type": "markdown",
   "id": "0d6dcf19",
   "metadata": {},
   "source": [
    "# 3.\tWrite a Python Program to Convert Decimal to Binary, Octal and Hexadecimal?"
   ]
  },
  {
   "cell_type": "code",
   "execution_count": 17,
   "id": "1a4cdc9b",
   "metadata": {},
   "outputs": [
    {
     "name": "stdout",
     "output_type": "stream",
     "text": [
      "The decimal value of 344 is:\n",
      "0b101011000 in binary.\n",
      "0o530 in octal.\n",
      "0x158 in hexadecimal.\n"
     ]
    }
   ],
   "source": [
    "num = 344\n",
    "\n",
    "print(\"The decimal value of\", num, \"is:\")\n",
    "print(bin(num), \"in binary.\")\n",
    "print(oct(num), \"in octal.\")\n",
    "print(hex(num), \"in hexadecimal.\")"
   ]
  },
  {
   "cell_type": "markdown",
   "id": "fe3dc0f7",
   "metadata": {},
   "source": [
    "# 4.\tWrite a Python Program To Find ASCII value of a character?"
   ]
  },
  {
   "cell_type": "code",
   "execution_count": 22,
   "id": "474b6637",
   "metadata": {},
   "outputs": [
    {
     "name": "stdout",
     "output_type": "stream",
     "text": [
      "The ASCII value of r is 114\n"
     ]
    }
   ],
   "source": [
    "name = 'r'\n",
    "print(f\"The ASCII value of {name} is\", ord(name))"
   ]
  },
  {
   "cell_type": "markdown",
   "id": "20fdbc2b",
   "metadata": {},
   "source": [
    "# 5.\tWrite a Python Program to Make a Simple Calculator with 4 basic mathematical operations?"
   ]
  },
  {
   "cell_type": "code",
   "execution_count": 23,
   "id": "b081e626",
   "metadata": {},
   "outputs": [
    {
     "name": "stdout",
     "output_type": "stream",
     "text": [
      "Selct opration\n",
      "1. Add\n",
      "2. Subtract\n",
      "3. Multiply\n",
      "4, Divide\n",
      "Enter choice (1, 2, 3, 4): 1\n",
      "Enter First Number: 15\n",
      "Enter Second Number: 30\n",
      "15.0 + 30.0 =  45.0\n",
      "Let's do next calculation? (yes/no): yes\n",
      "Enter choice (1, 2, 3, 4): 5\n",
      "Invalid Input\n",
      "Enter choice (1, 2, 3, 4): 4\n",
      "Enter First Number: 25\n",
      "Enter Second Number: 30\n",
      "25.0 / 30.0 =  0.8333333333333334\n",
      "Let's do next calculation? (yes/no): no\n"
     ]
    }
   ],
   "source": [
    "# Simple Calculator\n",
    "def add(x, y):\n",
    "    return x + y\n",
    "def subtract(x, y):\n",
    "    return x - y\n",
    "def multilpy(x, y):\n",
    "    return x * y\n",
    "def divide(x, y):\n",
    "    return x / y\n",
    "\n",
    "print(\"Selct opration\")\n",
    "print(\"1. Add\")\n",
    "print(\"2. Subtract\")\n",
    "print(\"3. Multiply\")\n",
    "print(\"4, Divide\")\n",
    "\n",
    "while (True):\n",
    "    # Take input from user\n",
    "    choice = int(input(\"Enter choice (1, 2, 3, 4): \"))\n",
    "    if choice in (1,2,3,4):\n",
    "        num1 = float(input(\"Enter First Number: \"))\n",
    "        num2 = float(input(\"Enter Second Number: \"))\n",
    "        if choice == 1:\n",
    "            print(f\"{num1} + {num2} = \", add(num1, num2))\n",
    "        elif choice == 2:\n",
    "            print(f\"{num1} - {num2} = \", subtract(num1, num2))\n",
    "        elif choice == 3:\n",
    "            print(f\"{num1} * {num2} = \", multilpy(num1, num2))\n",
    "        elif choice == 4:\n",
    "            print(f\"{num1} / {num2} = \", divide(num1, num2))\n",
    "        # check if user wants another calculation\n",
    "        # break the while loop if answer is no\n",
    "        next_cal = input(\"Let's do next calculation? (yes/no): \")\n",
    "        if next_cal == \"no\":\n",
    "            break\n",
    "    else:\n",
    "        print(\"Invalid Input\")"
   ]
  },
  {
   "cell_type": "code",
   "execution_count": null,
   "id": "a939232c",
   "metadata": {},
   "outputs": [],
   "source": []
  }
 ],
 "metadata": {
  "kernelspec": {
   "display_name": "Python 3 (ipykernel)",
   "language": "python",
   "name": "python3"
  },
  "language_info": {
   "codemirror_mode": {
    "name": "ipython",
    "version": 3
   },
   "file_extension": ".py",
   "mimetype": "text/x-python",
   "name": "python",
   "nbconvert_exporter": "python",
   "pygments_lexer": "ipython3",
   "version": "3.9.7"
  }
 },
 "nbformat": 4,
 "nbformat_minor": 5
}
