{
 "cells": [
  {
   "cell_type": "markdown",
   "id": "d82fa39f",
   "metadata": {},
   "source": [
    "__1. What exactly is []?__"
   ]
  },
  {
   "cell_type": "markdown",
   "id": "42770736",
   "metadata": {},
   "source": [
    "The empty list value, which is a list value that contains no items. This is similar to how '' is the empty string value."
   ]
  },
  {
   "cell_type": "markdown",
   "id": "67c08a47",
   "metadata": {},
   "source": [
    "__2. How would you assign the value 'hello' as the third value in a list stored in a variable named spam? (Assume spam contains [2, 4, 6, 8, 10].)__"
   ]
  },
  {
   "cell_type": "markdown",
   "id": "f5bda37c",
   "metadata": {},
   "source": [
    "spam[2] = 'hello' (Notice that the third value in a list is at index 2 because the first index is 0.)"
   ]
  },
  {
   "cell_type": "code",
   "execution_count": 1,
   "id": "bf4dbbdb",
   "metadata": {},
   "outputs": [],
   "source": [
    "spam = [2, 4, 6, 8, 10]\n",
    "spam[2] = 'hello'"
   ]
  },
  {
   "cell_type": "code",
   "execution_count": 2,
   "id": "048c99da",
   "metadata": {},
   "outputs": [
    {
     "data": {
      "text/plain": [
       "[2, 4, 'hello', 8, 10]"
      ]
     },
     "execution_count": 2,
     "metadata": {},
     "output_type": "execute_result"
    }
   ],
   "source": [
    "spam"
   ]
  },
  {
   "cell_type": "markdown",
   "id": "21015f2c",
   "metadata": {},
   "source": [
    "__Let's pretend the spam includes the list ['a', 'b', 'c', 'd'] for the next three queries.__"
   ]
  },
  {
   "cell_type": "code",
   "execution_count": 4,
   "id": "75d85fde",
   "metadata": {},
   "outputs": [],
   "source": [
    "spam = ['a', 'b', 'c', 'd']"
   ]
  },
  {
   "cell_type": "markdown",
   "id": "6c805f1b",
   "metadata": {},
   "source": [
    "__3. What is the value of spam[int(int('3' * 2) / 11)]?__"
   ]
  },
  {
   "cell_type": "markdown",
   "id": "1c79d4a4",
   "metadata": {},
   "source": [
    "'d' (Note that '3' * 2 is the string '33', which is passed to int() before being divided by 11. This eventually evaluates to 3. Expressions can be used wherever values are used.)"
   ]
  },
  {
   "cell_type": "code",
   "execution_count": 5,
   "id": "0cb42243",
   "metadata": {},
   "outputs": [
    {
     "data": {
      "text/plain": [
       "'d'"
      ]
     },
     "execution_count": 5,
     "metadata": {},
     "output_type": "execute_result"
    }
   ],
   "source": [
    "spam[int(int('3' * 2) / 11)]"
   ]
  },
  {
   "cell_type": "markdown",
   "id": "a606e0ba",
   "metadata": {},
   "source": [
    "__4. What is the value of spam[-1]?__"
   ]
  },
  {
   "cell_type": "markdown",
   "id": "1a65881d",
   "metadata": {},
   "source": [
    "'d' (Negative indexes count from the end.)"
   ]
  },
  {
   "cell_type": "code",
   "execution_count": 6,
   "id": "f8139a15",
   "metadata": {},
   "outputs": [
    {
     "data": {
      "text/plain": [
       "'d'"
      ]
     },
     "execution_count": 6,
     "metadata": {},
     "output_type": "execute_result"
    }
   ],
   "source": [
    "spam[-1]"
   ]
  },
  {
   "cell_type": "markdown",
   "id": "2edc1b48",
   "metadata": {},
   "source": [
    "__5. What is the value of spam[:2]?__"
   ]
  },
  {
   "cell_type": "markdown",
   "id": "4430269a",
   "metadata": {},
   "source": [
    "['a', 'b']"
   ]
  },
  {
   "cell_type": "code",
   "execution_count": 7,
   "id": "9d83c65d",
   "metadata": {},
   "outputs": [
    {
     "data": {
      "text/plain": [
       "['a', 'b']"
      ]
     },
     "execution_count": 7,
     "metadata": {},
     "output_type": "execute_result"
    }
   ],
   "source": [
    "spam[:2]"
   ]
  },
  {
   "cell_type": "markdown",
   "id": "768725a0",
   "metadata": {},
   "source": [
    "__Let's pretend bacon has the list [3.14, 'cat,' 11, 'cat,' True] for the next three questions.__"
   ]
  },
  {
   "cell_type": "code",
   "execution_count": 8,
   "id": "418a6e98",
   "metadata": {},
   "outputs": [],
   "source": [
    "bacon = [3.14, 'cat', 11, 'cat', True]"
   ]
  },
  {
   "cell_type": "markdown",
   "id": "d18abf50",
   "metadata": {},
   "source": [
    "__6. What is the value of bacon.index('cat')?__"
   ]
  },
  {
   "cell_type": "markdown",
   "id": "1b5677f9",
   "metadata": {},
   "source": [
    "1"
   ]
  },
  {
   "cell_type": "code",
   "execution_count": 10,
   "id": "38e1e31e",
   "metadata": {},
   "outputs": [
    {
     "data": {
      "text/plain": [
       "1"
      ]
     },
     "execution_count": 10,
     "metadata": {},
     "output_type": "execute_result"
    }
   ],
   "source": [
    "bacon.index('cat')"
   ]
  },
  {
   "cell_type": "markdown",
   "id": "971f7ded",
   "metadata": {},
   "source": [
    "__7. How does bacon.append(99) change the look of the list value in bacon?__"
   ]
  },
  {
   "cell_type": "markdown",
   "id": "c96bd7c1",
   "metadata": {},
   "source": [
    "[3.14, 'cat', 11, 'cat', True, 99]"
   ]
  },
  {
   "cell_type": "code",
   "execution_count": 11,
   "id": "45c46790",
   "metadata": {},
   "outputs": [],
   "source": [
    "bacon.append(99)"
   ]
  },
  {
   "cell_type": "code",
   "execution_count": 12,
   "id": "1a6d89e0",
   "metadata": {},
   "outputs": [
    {
     "data": {
      "text/plain": [
       "[3.14, 'cat', 11, 'cat', True, 99]"
      ]
     },
     "execution_count": 12,
     "metadata": {},
     "output_type": "execute_result"
    }
   ],
   "source": [
    "bacon"
   ]
  },
  {
   "cell_type": "markdown",
   "id": "0179c3f5",
   "metadata": {},
   "source": [
    "__8. How does bacon.remove('cat') change the look of the list in bacon?__"
   ]
  },
  {
   "cell_type": "markdown",
   "id": "a65004b9",
   "metadata": {},
   "source": [
    "[3.14, 11, 'cat', True, 99]"
   ]
  },
  {
   "cell_type": "code",
   "execution_count": 14,
   "id": "40e5d929",
   "metadata": {},
   "outputs": [],
   "source": [
    "bacon.remove('cat')"
   ]
  },
  {
   "cell_type": "code",
   "execution_count": 15,
   "id": "5b61d41d",
   "metadata": {},
   "outputs": [
    {
     "data": {
      "text/plain": [
       "[3.14, 11, 'cat', True, 99]"
      ]
     },
     "execution_count": 15,
     "metadata": {},
     "output_type": "execute_result"
    }
   ],
   "source": [
    "bacon"
   ]
  },
  {
   "cell_type": "markdown",
   "id": "192a3422",
   "metadata": {},
   "source": [
    "__9. What are the list concatenation and list replication operators?__"
   ]
  },
  {
   "cell_type": "markdown",
   "id": "7d51cfe5",
   "metadata": {},
   "source": [
    "The operator for list concatenation is +, while the operator for replication is *. (This is the same as for strings.)"
   ]
  },
  {
   "cell_type": "markdown",
   "id": "6b52bd0f",
   "metadata": {},
   "source": [
    "__10. What is difference between the list methods append() and insert()?__"
   ]
  },
  {
   "cell_type": "markdown",
   "id": "5212f280",
   "metadata": {},
   "source": [
    "While append() will add values only to the end of a list, insert() can add them anywhere in the list."
   ]
  },
  {
   "cell_type": "markdown",
   "id": "a3c8d7ec",
   "metadata": {},
   "source": [
    "__11. What are the two methods for removing items from a list?__"
   ]
  },
  {
   "cell_type": "markdown",
   "id": "35dc6faf",
   "metadata": {},
   "source": [
    "The del statement and the remove() list method are two ways to remove values from a list."
   ]
  },
  {
   "cell_type": "markdown",
   "id": "44c48915",
   "metadata": {},
   "source": [
    "__12. Describe how list values and string values are identical.__"
   ]
  },
  {
   "cell_type": "markdown",
   "id": "6d245084",
   "metadata": {},
   "source": [
    "Both lists and strings can be passed to len(), have indexes and slices, be used in for loops, be concatenated or replicated, and be used with the in and not in operators."
   ]
  },
  {
   "cell_type": "markdown",
   "id": "75767c7a",
   "metadata": {},
   "source": [
    "__13. What's the difference between tuples and lists?__"
   ]
  },
  {
   "cell_type": "markdown",
   "id": "f1f128fd",
   "metadata": {},
   "source": [
    "Lists are mutable; they can have values added, removed, or changed. Tuples are immutable; they cannot be changed at all. Also, tuples are written using parentheses, ( and ), while lists use the square brackets, [ and ]."
   ]
  },
  {
   "cell_type": "markdown",
   "id": "f2a89a44",
   "metadata": {},
   "source": [
    "__14. How do you type a tuple value that only contains the integer 42?__"
   ]
  },
  {
   "cell_type": "markdown",
   "id": "a2117cf7",
   "metadata": {},
   "source": [
    "(42,) (The trailing comma is mandatory.)"
   ]
  },
  {
   "cell_type": "markdown",
   "id": "44fd549a",
   "metadata": {},
   "source": [
    "__15. How do you get a list value's tuple form? How do you get a tuple value's list form?__"
   ]
  },
  {
   "cell_type": "markdown",
   "id": "637825a5",
   "metadata": {},
   "source": [
    "The tuple() and list() functions, respectively"
   ]
  },
  {
   "cell_type": "markdown",
   "id": "5af5b997",
   "metadata": {},
   "source": [
    "__16. Variables that \"contain\" list values are not necessarily lists themselves. Instead, what do they contain?__"
   ]
  },
  {
   "cell_type": "markdown",
   "id": "e1e3cd92",
   "metadata": {},
   "source": [
    "They contain references to list values."
   ]
  },
  {
   "cell_type": "markdown",
   "id": "19e9cc36",
   "metadata": {},
   "source": [
    "__17. How do you distinguish between copy.copy() and copy.deepcopy()?__"
   ]
  },
  {
   "cell_type": "markdown",
   "id": "3aee4891",
   "metadata": {},
   "source": [
    "The copy.copy() function will do a shallow copy of a list, while the copy.deepcopy() function will do a deep copy of a list. That is, only copy.deepcopy() will duplicate any lists inside the list."
   ]
  },
  {
   "cell_type": "code",
   "execution_count": null,
   "id": "81ec04d4",
   "metadata": {},
   "outputs": [],
   "source": []
  }
 ],
 "metadata": {
  "kernelspec": {
   "display_name": "Python 3 (ipykernel)",
   "language": "python",
   "name": "python3"
  },
  "language_info": {
   "codemirror_mode": {
    "name": "ipython",
    "version": 3
   },
   "file_extension": ".py",
   "mimetype": "text/x-python",
   "name": "python",
   "nbconvert_exporter": "python",
   "pygments_lexer": "ipython3",
   "version": "3.9.7"
  }
 },
 "nbformat": 4,
 "nbformat_minor": 5
}
