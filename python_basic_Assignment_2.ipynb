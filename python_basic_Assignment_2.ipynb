{
 "cells": [
  {
   "cell_type": "markdown",
   "id": "0cf3f1f3",
   "metadata": {},
   "source": [
    "__1.What are the two values of the Boolean data type? How do you write them?__"
   ]
  },
  {
   "cell_type": "markdown",
   "id": "9d289f23",
   "metadata": {},
   "source": [
    "There are two type of Boolean data type : true and False. Start with Capital Letter with the rest of the word in lower case."
   ]
  },
  {
   "cell_type": "markdown",
   "id": "a1db9ab5",
   "metadata": {},
   "source": [
    "__2. What are the three different types of Boolean operators?__"
   ]
  },
  {
   "cell_type": "markdown",
   "id": "81da31ae",
   "metadata": {},
   "source": [
    "There are three types of Boolean operators: AND, OR and NOT"
   ]
  },
  {
   "cell_type": "markdown",
   "id": "050eb448",
   "metadata": {},
   "source": [
    "__3. Make a list of each Boolean operator's truth tables (i.e. every possible combination of Boolean values for the operator and what it evaluate ).__"
   ]
  },
  {
   "cell_type": "code",
   "execution_count": 28,
   "id": "611698c0",
   "metadata": {},
   "outputs": [
    {
     "name": "stdout",
     "output_type": "stream",
     "text": [
      "True\n",
      "False\n",
      "False\n",
      "False\n",
      "True\n",
      "True\n",
      "True\n",
      "False\n",
      "False\n",
      "True\n"
     ]
    }
   ],
   "source": [
    "print(True and True)\n",
    "\n",
    "print(True and False)\n",
    "\n",
    "print(False and True)\n",
    "\n",
    "print(False and False)\n",
    "\n",
    "print(True or True)\n",
    "\n",
    "print(True or False)\n",
    "\n",
    "print(False or True)\n",
    "\n",
    "print(False or False)\n",
    "\n",
    "print(not True)\n",
    "\n",
    "print(not False)"
   ]
  },
  {
   "cell_type": "markdown",
   "id": "4bf0127b",
   "metadata": {},
   "source": [
    "__4. What are the values of the following expressions?<br>\n",
    "(5 > 4) and (3 == 5)<br>\n",
    "not (5 > 4)<br>\n",
    "(5 > 4) or (3 == 5)<br>\n",
    "not ((5 > 4) or (3 == 5))<br>\n",
    "(True and True) and (True == False)<br>\n",
    "(not False) or (not True)__"
   ]
  },
  {
   "cell_type": "code",
   "execution_count": 29,
   "id": "ad521b3a",
   "metadata": {},
   "outputs": [
    {
     "name": "stdout",
     "output_type": "stream",
     "text": [
      "False\n",
      "False\n",
      "True\n",
      "False\n",
      "False\n",
      "True\n"
     ]
    }
   ],
   "source": [
    "print((5 > 4) and (3 == 5))\n",
    "print(not (5 > 4))\n",
    "print((5 > 4) or (3 == 5))\n",
    "print(not ((5 > 4) or (3 == 5)))\n",
    "print((True and True) and (True == False))\n",
    "print((not False) or (not True))"
   ]
  },
  {
   "cell_type": "markdown",
   "id": "8a220cea",
   "metadata": {},
   "source": [
    "__5. What are the six comparison operators?__"
   ]
  },
  {
   "cell_type": "markdown",
   "id": "fb579074",
   "metadata": {},
   "source": [
    "There are six main comparison operators: ==, =!, <, >, <= and >="
   ]
  },
  {
   "cell_type": "markdown",
   "id": "6d4d5f38",
   "metadata": {},
   "source": [
    "__6. How do you tell the difference between the equal to and assignment operators?Describe a condition and when you would use one.__"
   ]
  },
  {
   "cell_type": "markdown",
   "id": "d628e572",
   "metadata": {},
   "source": [
    "== is the equal to operator that compares two values and evaluates to a Boolean, while = is the assignment operator that stores a value in a variable.A condition is an expression used in a flow control statement that evaluates to a Boolean value."
   ]
  },
  {
   "cell_type": "markdown",
   "id": "609d2a85",
   "metadata": {},
   "source": [
    "7. __Identify the three blocks in this code:<br>\n",
    "spam = 0<br>\n",
    "if spam == 10:<br>\n",
    "print('eggs')<br>\n",
    "if spam > 5:<br>\n",
    "print('bacon')<br>\n",
    "else:<br>\n",
    "print('ham')<br>\n",
    "print('spam')<br>\n",
    "print('spam')<br>__\n"
   ]
  },
  {
   "cell_type": "markdown",
   "id": "070f7389",
   "metadata": {},
   "source": [
    "All content in the IF statement, as well as Print ('bacon'), these two lines of print ('ham')"
   ]
  },
  {
   "cell_type": "markdown",
   "id": "04daed4c",
   "metadata": {},
   "source": [
    "__8. Write code that prints Hello if 1 is stored in spam, prints Howdy if 2 is stored in spam, and prints Greetings! if anything else is stored in spam.__"
   ]
  },
  {
   "cell_type": "code",
   "execution_count": 30,
   "id": "a64f5d3a",
   "metadata": {},
   "outputs": [
    {
     "name": "stdout",
     "output_type": "stream",
     "text": [
      "Howdy\n"
     ]
    }
   ],
   "source": [
    "spam = 2\n",
    "if spam == 1:\n",
    "    print('Hello')\n",
    "elif spam == 2:\n",
    "    print('Howdy')\n",
    "else :\n",
    "    print('Greetings')\n",
    "    "
   ]
  },
  {
   "cell_type": "markdown",
   "id": "811de06c",
   "metadata": {},
   "source": [
    "__9.If your programme is stuck in an endless loop, what keys you’ll press?__"
   ]
  },
  {
   "cell_type": "markdown",
   "id": "e41d882d",
   "metadata": {},
   "source": [
    "Ctrl+C"
   ]
  },
  {
   "cell_type": "markdown",
   "id": "80148c58",
   "metadata": {},
   "source": [
    "__10. How can you tell the difference between break and continue?__"
   ]
  },
  {
   "cell_type": "markdown",
   "id": "ec07071b",
   "metadata": {},
   "source": [
    "BREAK is jumping out of this loop statement.Continue is jumping to the beginning of the cycle, recirculating."
   ]
  },
  {
   "cell_type": "markdown",
   "id": "3c98dca8",
   "metadata": {},
   "source": [
    "__11. In a for loop, what is the difference between range(10), range(0, 10), and range(0, 10, 1)?__"
   ]
  },
  {
   "cell_type": "markdown",
   "id": "53805bc5",
   "metadata": {},
   "source": [
    "Range (10) -: represents 0 to 9, Range (0, 10) -: represents tart value is 0, and stop value is 10 , Range (0, 10, 1) -: represents 0 to 9 with interval 1 increment"
   ]
  },
  {
   "cell_type": "markdown",
   "id": "43ce0d25",
   "metadata": {},
   "source": [
    "__12. Write a short program that prints the numbers 1 to 10 using a for loop. Then write an equivalent program that prints the numbers 1 to 10 using a while loop.__"
   ]
  },
  {
   "cell_type": "code",
   "execution_count": 31,
   "id": "a2fc1f99",
   "metadata": {},
   "outputs": [
    {
     "name": "stdout",
     "output_type": "stream",
     "text": [
      "1\n",
      "2\n",
      "3\n",
      "4\n",
      "5\n",
      "6\n",
      "7\n",
      "8\n",
      "9\n",
      "10\n"
     ]
    }
   ],
   "source": [
    "for i in range(1, 11):\n",
    "    print(i)"
   ]
  },
  {
   "cell_type": "markdown",
   "id": "03812f16",
   "metadata": {},
   "source": [
    "Equivalent to "
   ]
  },
  {
   "cell_type": "code",
   "execution_count": 32,
   "id": "5b201406",
   "metadata": {},
   "outputs": [
    {
     "name": "stdout",
     "output_type": "stream",
     "text": [
      "1\n",
      "2\n",
      "3\n",
      "4\n",
      "5\n",
      "6\n",
      "7\n",
      "8\n",
      "9\n",
      "10\n"
     ]
    }
   ],
   "source": [
    "i = 1\n",
    "\n",
    "while i < 11:\n",
    "\n",
    "    print(i)\n",
    "\n",
    "    i+=1"
   ]
  },
  {
   "cell_type": "markdown",
   "id": "75cb81fc",
   "metadata": {},
   "source": [
    "__13. If you had a function named bacon() inside a module named spam, how would you call it after importing spam?__"
   ]
  },
  {
   "cell_type": "markdown",
   "id": "a9508019",
   "metadata": {},
   "source": [
    "import spam <br>\n",
    "spam.bacon()"
   ]
  }
 ],
 "metadata": {
  "kernelspec": {
   "display_name": "Python 3 (ipykernel)",
   "language": "python",
   "name": "python3"
  },
  "language_info": {
   "codemirror_mode": {
    "name": "ipython",
    "version": 3
   },
   "file_extension": ".py",
   "mimetype": "text/x-python",
   "name": "python",
   "nbconvert_exporter": "python",
   "pygments_lexer": "ipython3",
   "version": "3.9.7"
  }
 },
 "nbformat": 4,
 "nbformat_minor": 5
}
