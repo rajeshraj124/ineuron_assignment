{
 "cells": [
  {
   "cell_type": "markdown",
   "id": "71222f78",
   "metadata": {},
   "source": [
    "# 1. What are escape characters, and how do you use them?"
   ]
  },
  {
   "cell_type": "markdown",
   "id": "8d1da992",
   "metadata": {},
   "source": [
    "Ans - Escape characters represent characters in string values that would otherwise be difficult or impossible to type into code"
   ]
  },
  {
   "cell_type": "markdown",
   "id": "f2a5e11b",
   "metadata": {},
   "source": [
    "# 2. What do the escape characters n and t stand for?"
   ]
  },
  {
   "cell_type": "markdown",
   "id": "6b23ce18",
   "metadata": {},
   "source": [
    "Ans - \\n is a newline; \\t is a tab"
   ]
  },
  {
   "cell_type": "markdown",
   "id": "3a7dbdf1",
   "metadata": {},
   "source": [
    "# 3. What is the way to include backslash characters in a string?"
   ]
  },
  {
   "cell_type": "markdown",
   "id": "0afd4800",
   "metadata": {},
   "source": [
    "Ans - The \\\\ escape character will represent a backslash character."
   ]
  },
  {
   "cell_type": "markdown",
   "id": "412e11e0",
   "metadata": {},
   "source": [
    "# 4. The string \"Howl's Moving Castle\" is a correct value. Why isn't the single quote character in the word Howl's not escaped a problem?"
   ]
  },
  {
   "cell_type": "markdown",
   "id": "f19e4b04",
   "metadata": {},
   "source": [
    "Ans - The single quote in Howl's is fine because you've used double quotes to mark the beginning and end of the string."
   ]
  },
  {
   "cell_type": "markdown",
   "id": "97e78198",
   "metadata": {},
   "source": [
    "# 5. How do you write a string of newlines if you don't want to use the n character?"
   ]
  },
  {
   "cell_type": "markdown",
   "id": "e2b95678",
   "metadata": {},
   "source": [
    "Ans- Multiline strings allow you to use newlines in strings without the \\n escape characte"
   ]
  },
  {
   "cell_type": "markdown",
   "id": "64a21bde",
   "metadata": {},
   "source": [
    "# 6. What are the values of the given expressions?.<br>\n",
    "'Hello, world!'[1]<br>\n",
    "'Hello, world!'[0:5]<br>\n",
    "'Hello, world!'[:5]<br>\n",
    "'Hello, world!'[3:]<br>\n"
   ]
  },
  {
   "cell_type": "markdown",
   "id": "e4b28da8",
   "metadata": {},
   "source": [
    "Ans - The expressions evaluate to the following:\n",
    "\n",
    "'e'\n",
    "\n",
    "'Hello'\n",
    "\n",
    "'Hello'\n",
    "\n",
    "'lo world!"
   ]
  },
  {
   "cell_type": "markdown",
   "id": "3f5d1e68",
   "metadata": {},
   "source": [
    "# 7. What are the values of the following expressions?<br>\n",
    "'Hello'.upper()<br>\n",
    "'Hello'.upper().isupper()<br>\n",
    "'Hello'.upper().lower()<br>\n"
   ]
  },
  {
   "cell_type": "markdown",
   "id": "22301c70",
   "metadata": {},
   "source": [
    "Ans- The expressions evaluate to the following:\n",
    "\n",
    "'HELLO'\n",
    "\n",
    "True\n",
    "\n",
    "'hello'"
   ]
  },
  {
   "cell_type": "markdown",
   "id": "1fbe3a3f",
   "metadata": {},
   "source": [
    "# 8. What are the values of the following expressions?<br>\n",
    "'Remember, remember, the fifth of July.'.split()<br>\n",
    "'-'.join('There can only one.'.split())<br>\n"
   ]
  },
  {
   "cell_type": "markdown",
   "id": "fd2f0604",
   "metadata": {},
   "source": [
    "Ans - The expressions evaluate to the following:\n",
    "\n",
    "['Remember,', 'remember,', 'the', 'fifth', 'of', 'November.']\n",
    "\n",
    "'There-can-be-only-one."
   ]
  },
  {
   "cell_type": "markdown",
   "id": "b008873b",
   "metadata": {},
   "source": [
    "# 9. What are the methods for right-justifying, left-justifying, and centering a string?"
   ]
  },
  {
   "cell_type": "markdown",
   "id": "eabb8c2e",
   "metadata": {},
   "source": [
    "Ans- The rjust(), ljust(), and center() string methods, respectively"
   ]
  },
  {
   "cell_type": "markdown",
   "id": "783a85cd",
   "metadata": {},
   "source": [
    "# 10. What is the best way to remove whitespace characters from the start or end?"
   ]
  },
  {
   "cell_type": "markdown",
   "id": "343cdcb2",
   "metadata": {},
   "source": [
    "Ans- The lstrip() and rstrip() methods remove whitespace from the left and right ends of a string, respectively."
   ]
  },
  {
   "cell_type": "code",
   "execution_count": null,
   "id": "53e4125c",
   "metadata": {},
   "outputs": [],
   "source": []
  }
 ],
 "metadata": {
  "kernelspec": {
   "display_name": "Python 3 (ipykernel)",
   "language": "python",
   "name": "python3"
  },
  "language_info": {
   "codemirror_mode": {
    "name": "ipython",
    "version": 3
   },
   "file_extension": ".py",
   "mimetype": "text/x-python",
   "name": "python",
   "nbconvert_exporter": "python",
   "pygments_lexer": "ipython3",
   "version": "3.9.7"
  }
 },
 "nbformat": 4,
 "nbformat_minor": 5
}
