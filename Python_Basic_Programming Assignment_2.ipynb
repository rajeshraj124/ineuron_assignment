{
 "cells": [
  {
   "cell_type": "markdown",
   "id": "f58bc2a8",
   "metadata": {},
   "source": [
    "__1. Write a Python program to convert kilometers to miles?__"
   ]
  },
  {
   "cell_type": "code",
   "execution_count": 14,
   "id": "05d6bba2",
   "metadata": {},
   "outputs": [
    {
     "name": "stdout",
     "output_type": "stream",
     "text": [
      "Please enter kilometer as a unit: 20\n",
      "The 20.00 Kilometer is equal to: 12.43 miles\n"
     ]
    }
   ],
   "source": [
    "kilometers = float(input('Please enter kilometer as a unit: '))\n",
    "\n",
    "conver_fact = 0.621371\n",
    "\n",
    "miles = kilometers * conver_fact\n",
    "\n",
    "print('The {:.2f} Kilometer is equal to: {:.2f} miles'.format(kilometers,miles))"
   ]
  },
  {
   "cell_type": "markdown",
   "id": "924a440c",
   "metadata": {},
   "source": [
    "__2. Write a Python program to convert Celsius to Fahrenheit?__"
   ]
  },
  {
   "cell_type": "code",
   "execution_count": 15,
   "id": "48bee53a",
   "metadata": {},
   "outputs": [
    {
     "name": "stdout",
     "output_type": "stream",
     "text": [
      "Please enter celsius as a unit:  50\n",
      "The 50.00 celsius is equal to: 122.00 fahrenheit\n"
     ]
    }
   ],
   "source": [
    "celsius = float(input('Please enter celsius as a unit:  '))\n",
    "\n",
    "fahrenheit = (celsius * 9/5) + 32\n",
    "\n",
    "print('The {:.2f} celsius is equal to: {:.2f} fahrenheit'.format(celsius,fahrenheit))"
   ]
  },
  {
   "cell_type": "markdown",
   "id": "7300500a",
   "metadata": {},
   "source": [
    "__3. Write a Python program to display calendar?__"
   ]
  },
  {
   "cell_type": "code",
   "execution_count": 16,
   "id": "be6ab788",
   "metadata": {},
   "outputs": [
    {
     "name": "stdout",
     "output_type": "stream",
     "text": [
      "Please enter year : 2021\n",
      "Please enter month : 12\n",
      "   December 2021\n",
      "Mo Tu We Th Fr Sa Su\n",
      "       1  2  3  4  5\n",
      " 6  7  8  9 10 11 12\n",
      "13 14 15 16 17 18 19\n",
      "20 21 22 23 24 25 26\n",
      "27 28 29 30 31\n",
      "\n"
     ]
    }
   ],
   "source": [
    "import calendar\n",
    "\n",
    "year = int(input('Please enter year : '))\n",
    "month = int(input('Please enter month : '))\n",
    "\n",
    "print(calendar.month(year, month))"
   ]
  },
  {
   "cell_type": "markdown",
   "id": "89254d11",
   "metadata": {},
   "source": [
    "__4. Write a Python program to solve quadratic equation?__"
   ]
  },
  {
   "cell_type": "code",
   "execution_count": 17,
   "id": "ceb18402",
   "metadata": {},
   "outputs": [
    {
     "name": "stdout",
     "output_type": "stream",
     "text": [
      "The roots are\n",
      "(-3.414213562373095+0j)\n",
      "(-0.5857864376269049+0j)\n"
     ]
    }
   ],
   "source": [
    "import cmath\n",
    "  \n",
    "a = 1\n",
    "b = 4\n",
    "c = 2\n",
    "  \n",
    "\n",
    "dis = (b**2) - (4 * a*c)\n",
    "  \n",
    "\n",
    "ans1 = (-b-cmath.sqrt(dis))/(2 * a)\n",
    "ans2 = (-b + cmath.sqrt(dis))/(2 * a)\n",
    "  \n",
    "\n",
    "print('The roots are')\n",
    "print(ans1)\n",
    "print(ans2)"
   ]
  },
  {
   "cell_type": "markdown",
   "id": "950faf1d",
   "metadata": {},
   "source": [
    "__5. Write a Python program to swap two variables without temp variable?__"
   ]
  },
  {
   "cell_type": "code",
   "execution_count": 18,
   "id": "bde86970",
   "metadata": {},
   "outputs": [
    {
     "name": "stdout",
     "output_type": "stream",
     "text": [
      "x =  20\n",
      "y =  10\n"
     ]
    }
   ],
   "source": [
    "x = 10\n",
    "y = 20\n",
    "\n",
    "y, x = x, y\n",
    "\n",
    "print('x = ', x)\n",
    "print('y = ', y)"
   ]
  }
 ],
 "metadata": {
  "kernelspec": {
   "display_name": "Python 3 (ipykernel)",
   "language": "python",
   "name": "python3"
  },
  "language_info": {
   "codemirror_mode": {
    "name": "ipython",
    "version": 3
   },
   "file_extension": ".py",
   "mimetype": "text/x-python",
   "name": "python",
   "nbconvert_exporter": "python",
   "pygments_lexer": "ipython3",
   "version": "3.9.7"
  }
 },
 "nbformat": 4,
 "nbformat_minor": 5
}
