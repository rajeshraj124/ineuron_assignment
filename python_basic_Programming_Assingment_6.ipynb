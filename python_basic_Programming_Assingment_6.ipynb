{
 "cells": [
  {
   "cell_type": "markdown",
   "id": "d0c20633",
   "metadata": {},
   "source": [
    "# 1.\tWrite a Python Program to Display Fibonacci Sequence Using Recursion?"
   ]
  },
  {
   "cell_type": "code",
   "execution_count": 9,
   "id": "105dbed1",
   "metadata": {},
   "outputs": [
    {
     "name": "stdout",
     "output_type": "stream",
     "text": [
      "Please Enter Positive number : 5\n",
      "Fibonacci sequence:\n",
      "0\n",
      "1\n",
      "1\n",
      "2\n",
      "3\n"
     ]
    }
   ],
   "source": [
    "def recur_fibo(n):\n",
    "    if n <= 1:\n",
    "        return n\n",
    "    else:\n",
    "        return(recur_fibo(n-1) + recur_fibo(n-2))\n",
    "\n",
    "nterms = int(input(\"Please Enter Positive number : \"))\n",
    "\n",
    "# check if the number of terms is valid\n",
    "if nterms <= 0:\n",
    "    print(\"Plese enter a positive integer\")\n",
    "else:\n",
    "    print(\"Fibonacci sequence:\")\n",
    "    for i in range(nterms):\n",
    "        print(recur_fibo(i))"
   ]
  },
  {
   "cell_type": "markdown",
   "id": "9ce83046",
   "metadata": {},
   "source": [
    "# 2.\tWrite a Python Program to Find Factorial of Number Using Recursion?"
   ]
  },
  {
   "cell_type": "code",
   "execution_count": 8,
   "id": "f864b575",
   "metadata": {},
   "outputs": [
    {
     "name": "stdout",
     "output_type": "stream",
     "text": [
      "Please Enter Positive number : 15\n",
      "The factorial of 15 is 1307674368000\n"
     ]
    }
   ],
   "source": [
    "def recur_factorial(n):\n",
    "    if n == 1:\n",
    "        return n\n",
    "    else:\n",
    "        return n*recur_factorial(n-1)\n",
    "\n",
    "num =int(input(\"Please Enter Positive number : \"))\n",
    "\n",
    "# check if the number is negative\n",
    "if num < 0:\n",
    "    print(\"Sorry, factorial does not exist for negative numbers\")\n",
    "elif num == 0:\n",
    "    print(\"The factorial of 0 is 1\")\n",
    "else:\n",
    "    print(\"The factorial of\", num, \"is\", recur_factorial(num))"
   ]
  },
  {
   "cell_type": "markdown",
   "id": "3beb662e",
   "metadata": {},
   "source": [
    "# 3.\tWrite a Python Program to calculate your Body Mass Index?"
   ]
  },
  {
   "cell_type": "code",
   "execution_count": 13,
   "id": "646057e0",
   "metadata": {},
   "outputs": [
    {
     "name": "stdout",
     "output_type": "stream",
     "text": [
      "Enter your height in cm: 160\n",
      "Enter your Weight in cm: 75\n",
      "The BMI is 29.296874999999993, so overweight\n"
     ]
    }
   ],
   "source": [
    "def BMI(H,W):\n",
    "    BMI =W/((H/100)**2)\n",
    "    return BMI\n",
    "H = float(input(\"Enter your height in cm: \"))\n",
    "W = float(input(\"Enter your Weight in cm: \"))\n",
    "bmi = BMI(H, W)\n",
    "print(f\"The BMI is {bmi}, so\", end=' ')\n",
    "if (bmi < 18.5):\n",
    "    print(\"underweight\")\n",
    "elif ( bmi >= 18.5 and bmi < 24.9):\n",
    "    print(\"Healthy\")\n",
    "elif ( bmi >= 24.9 and bmi < 30):\n",
    "    print(\"overweight\")\n",
    "elif ( bmi >=30):\n",
    "    print(\"Suffering from Obesity\")"
   ]
  },
  {
   "cell_type": "markdown",
   "id": "692a036a",
   "metadata": {},
   "source": [
    "# 4.\tWrite a Python Program to calculate the natural logarithm of any number?"
   ]
  },
  {
   "cell_type": "code",
   "execution_count": 16,
   "id": "dc61bcfe",
   "metadata": {},
   "outputs": [
    {
     "name": "stdout",
     "output_type": "stream",
     "text": [
      "Enter the number: 10\n",
      "the value is : 2.302585092994046\n"
     ]
    }
   ],
   "source": [
    "import math\n",
    "number = int(input(\"Enter the number: \"))\n",
    "ans = math.log(number)\n",
    "print(f\"the value is : {ans}\")"
   ]
  },
  {
   "cell_type": "markdown",
   "id": "6e2566b7",
   "metadata": {},
   "source": [
    "# 5.\tWrite a Python Program for cube sum of first n natural numbers?"
   ]
  },
  {
   "cell_type": "code",
   "execution_count": 17,
   "id": "6f083c78",
   "metadata": {},
   "outputs": [
    {
     "name": "stdout",
     "output_type": "stream",
     "text": [
      "Please enter Number : 5\n",
      "Sum of cubes = 225\n"
     ]
    }
   ],
   "source": [
    "def sumofserie(n):\n",
    "    sum = 0\n",
    "    for i in range(1, n+1):\n",
    "        sum += i * i * i\n",
    "    return sum\n",
    "n = int(input(\"Please enter Number : \"))\n",
    "print(f\"Sum of cubes = {sumofserie(n)}\")"
   ]
  },
  {
   "cell_type": "code",
   "execution_count": null,
   "id": "3935ae56",
   "metadata": {},
   "outputs": [],
   "source": []
  }
 ],
 "metadata": {
  "kernelspec": {
   "display_name": "Python 3 (ipykernel)",
   "language": "python",
   "name": "python3"
  },
  "language_info": {
   "codemirror_mode": {
    "name": "ipython",
    "version": 3
   },
   "file_extension": ".py",
   "mimetype": "text/x-python",
   "name": "python",
   "nbconvert_exporter": "python",
   "pygments_lexer": "ipython3",
   "version": "3.9.7"
  }
 },
 "nbformat": 4,
 "nbformat_minor": 5
}
