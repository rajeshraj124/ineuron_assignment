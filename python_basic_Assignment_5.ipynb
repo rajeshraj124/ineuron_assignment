{
 "cells": [
  {
   "cell_type": "markdown",
   "id": "db13528b",
   "metadata": {},
   "source": [
    "# 1. What does an empty dictionary's code look like?"
   ]
  },
  {
   "cell_type": "markdown",
   "id": "63f1c54d",
   "metadata": {},
   "source": [
    "Ans - Two curly brackets: {}"
   ]
  },
  {
   "cell_type": "markdown",
   "id": "afcce0fe",
   "metadata": {},
   "source": [
    "# 2. What is the value of a dictionary value with the key 'foo' and the value 42?"
   ]
  },
  {
   "cell_type": "markdown",
   "id": "d95932c8",
   "metadata": {},
   "source": [
    "Ans - {\"foo\": 42} in this dictonary key is foo and value is 46."
   ]
  },
  {
   "cell_type": "markdown",
   "id": "f2494f26",
   "metadata": {},
   "source": [
    "# 3. What is the most significant distinction between a dictionary and a list?"
   ]
  },
  {
   "cell_type": "markdown",
   "id": "fee458e2",
   "metadata": {},
   "source": [
    "Ans - The items stored in a dictionary are unordered, while the items in a list are ordered."
   ]
  },
  {
   "cell_type": "markdown",
   "id": "7b030b1a",
   "metadata": {},
   "source": [
    "# 4. What happens if you try to access spam['foo'] if spam is {'bar': 100}?"
   ]
  },
  {
   "cell_type": "markdown",
   "id": "7ea5f5ac",
   "metadata": {},
   "source": [
    "Ans = You get a KeyError error.\n",
    "\n",
    "spam = {\"bar\":100}\n",
    "spam[\"foo\"]\n",
    "<br>\n",
    "KeyError                                  Traceback (most recent call last)\n",
    "~\\AppData\\Local\\Temp/ipykernel_9576/4194826507.py in <module>\n",
    "      1 spam = {\"bar\":100}\n",
    "----> 2 spam[\"foo\"]\n",
    "\n",
    "KeyError: 'foo'"
   ]
  },
  {
   "cell_type": "markdown",
   "id": "05a3111d",
   "metadata": {},
   "source": [
    "# 5. If a dictionary is stored in spam, what is the difference between the expressions 'cat' in spam and 'cat' in spam.keys()?"
   ]
  },
  {
   "cell_type": "markdown",
   "id": "14a83af4",
   "metadata": {},
   "source": [
    "Ans - There is no difference. The in operator checks whether a value exists as a key in the dictionary."
   ]
  },
  {
   "cell_type": "markdown",
   "id": "c1b4a953",
   "metadata": {},
   "source": [
    "# 6. If a dictionary is stored in spam, what is the difference between the expressions 'cat' in spam and 'cat' in spam.values()?"
   ]
  },
  {
   "cell_type": "markdown",
   "id": "1676fabf",
   "metadata": {},
   "source": [
    "Ans - 'cat' in spam checks whether there is a 'cat' key in the dictionary, while 'cat' in spam.values() checks whether there is a value 'cat' for one of the keys in spam."
   ]
  },
  {
   "cell_type": "markdown",
   "id": "317348a7",
   "metadata": {},
   "source": [
    "# 7. What is a shortcut for the following code?.<br>\n",
    "if 'color' not in spam:<br>\n",
    "spam['color'] = 'black'\n"
   ]
  },
  {
   "cell_type": "markdown",
   "id": "d40d1721",
   "metadata": {},
   "source": [
    "Ans - spam.setdefault('color', 'black')"
   ]
  },
  {
   "cell_type": "markdown",
   "id": "5199d6a3",
   "metadata": {},
   "source": [
    "# 8. How do you \"pretty print\" dictionary values using which module and function?"
   ]
  },
  {
   "cell_type": "markdown",
   "id": "5e7ae714",
   "metadata": {},
   "source": [
    "Ans - pprint.pprint()"
   ]
  },
  {
   "cell_type": "code",
   "execution_count": null,
   "id": "95e45354",
   "metadata": {},
   "outputs": [],
   "source": []
  }
 ],
 "metadata": {
  "kernelspec": {
   "display_name": "Python 3 (ipykernel)",
   "language": "python",
   "name": "python3"
  },
  "language_info": {
   "codemirror_mode": {
    "name": "ipython",
    "version": 3
   },
   "file_extension": ".py",
   "mimetype": "text/x-python",
   "name": "python",
   "nbconvert_exporter": "python",
   "pygments_lexer": "ipython3",
   "version": "3.9.7"
  }
 },
 "nbformat": 4,
 "nbformat_minor": 5
}
