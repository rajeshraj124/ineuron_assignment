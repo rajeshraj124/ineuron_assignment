{
 "cells": [
  {
   "cell_type": "markdown",
   "id": "1ee52e0c",
   "metadata": {},
   "source": [
    "__1. In the below elements which of them are values or an expression? eg:- values can be integer or string and expressions will be mathematical operators. *, 'hello',-87.8, -, / , +\t,6__"
   ]
  },
  {
   "cell_type": "markdown",
   "id": "d1c32671",
   "metadata": {},
   "source": [
    "Mathematical operators  - : *, -, /, + <br>\n",
    "Values -: 'hello', -87.8, 6"
   ]
  },
  {
   "cell_type": "markdown",
   "id": "ea089618",
   "metadata": {},
   "source": [
    "__2. What is the difference between string and variable?__"
   ]
  },
  {
   "cell_type": "markdown",
   "id": "22bc5c46",
   "metadata": {},
   "source": [
    "A Variable is a store of information, and a String is a type of information you would store in a Variable. A String is usually words, enclosed with \"\",''."
   ]
  },
  {
   "cell_type": "code",
   "execution_count": 15,
   "id": "735c74f0",
   "metadata": {},
   "outputs": [],
   "source": [
    "x = 'Hello World' # x is variable and 'hello world' is string"
   ]
  },
  {
   "cell_type": "markdown",
   "id": "5403f77b",
   "metadata": {},
   "source": [
    "__3. Describe three different data types.__"
   ]
  },
  {
   "cell_type": "markdown",
   "id": "d0920659",
   "metadata": {},
   "source": [
    "Integers, floating-point numbers, and strings"
   ]
  },
  {
   "cell_type": "code",
   "execution_count": 16,
   "id": "4a6d4790",
   "metadata": {},
   "outputs": [
    {
     "data": {
      "text/plain": [
       "int"
      ]
     },
     "execution_count": 16,
     "metadata": {},
     "output_type": "execute_result"
    }
   ],
   "source": [
    "a = 12\n",
    "type(a)"
   ]
  },
  {
   "cell_type": "code",
   "execution_count": 17,
   "id": "1bff4cd7",
   "metadata": {},
   "outputs": [
    {
     "data": {
      "text/plain": [
       "float"
      ]
     },
     "execution_count": 17,
     "metadata": {},
     "output_type": "execute_result"
    }
   ],
   "source": [
    "b = 32.52\n",
    "type(b)"
   ]
  },
  {
   "cell_type": "code",
   "execution_count": 18,
   "id": "5c0b2d83",
   "metadata": {},
   "outputs": [
    {
     "data": {
      "text/plain": [
       "str"
      ]
     },
     "execution_count": 18,
     "metadata": {},
     "output_type": "execute_result"
    }
   ],
   "source": [
    "c = 'string'\n",
    "type(c)"
   ]
  },
  {
   "cell_type": "markdown",
   "id": "18ef393f",
   "metadata": {},
   "source": [
    "__4. What is an expression made up of? What do all expressions do?__"
   ]
  },
  {
   "cell_type": "markdown",
   "id": "fe0fad54",
   "metadata": {},
   "source": [
    "An expression is a combination of values and operators. All expressions evaluate (that is, reduce) to a single value. eg:-\n",
    "\n",
    "1+1 return 2, 2 * 2 return 4"
   ]
  },
  {
   "cell_type": "markdown",
   "id": "4aa7820d",
   "metadata": {},
   "source": [
    "__5. This assignment statements, like spam = 10. What is the difference between an expression and a statement?__"
   ]
  },
  {
   "cell_type": "markdown",
   "id": "7cd8152b",
   "metadata": {},
   "source": [
    "An expression evaluates to a single value. A statement does not."
   ]
  },
  {
   "cell_type": "markdown",
   "id": "4c4b2c73",
   "metadata": {},
   "source": [
    "__6. After running the following code, what does the variable bacon contain?<br>\n",
    "bacon = 22 <br>\n",
    "bacon + 1__"
   ]
  },
  {
   "cell_type": "markdown",
   "id": "d4780894",
   "metadata": {},
   "source": [
    "The bacon variable is set to 22. The bacon + 1 expression does not reassign the value in bacon (that would need an assignment statement: bacon = bacon + 1)"
   ]
  },
  {
   "cell_type": "markdown",
   "id": "3932ccb4",
   "metadata": {},
   "source": [
    "__7. What should the values of the following two terms be?<br>\n",
    "'spam' + 'spamspam'<br>\n",
    "'spam' * 3__\n"
   ]
  },
  {
   "cell_type": "markdown",
   "id": "855573cc",
   "metadata": {},
   "source": [
    "Both expressions return to the string 'spamspamspam'."
   ]
  },
  {
   "cell_type": "markdown",
   "id": "08b41a43",
   "metadata": {},
   "source": [
    "__8. Why is eggs a valid variable name while 100 is invalid?__"
   ]
  },
  {
   "cell_type": "markdown",
   "id": "50bb93a3",
   "metadata": {},
   "source": [
    "Variable name cann't start with number."
   ]
  },
  {
   "cell_type": "markdown",
   "id": "4f003a2b",
   "metadata": {},
   "source": [
    "__9. What three functions can be used to get the integer, floating-point number, or string version of a value?__"
   ]
  },
  {
   "cell_type": "markdown",
   "id": "708623bc",
   "metadata": {},
   "source": [
    "The int(), float(), and str() functions will return to the integer, floating-point number, and string versions of the value passed to them."
   ]
  },
  {
   "cell_type": "markdown",
   "id": "c6061069",
   "metadata": {},
   "source": [
    "__10. Why does this expression cause an error? How can you fix it?<br>\n",
    "'I have eaten ' + 99 + ' burritos.'__"
   ]
  },
  {
   "cell_type": "markdown",
   "id": "d1e8d1f1",
   "metadata": {},
   "source": [
    "99 is integer because display error so we can fixed this error with casting method. "
   ]
  },
  {
   "cell_type": "code",
   "execution_count": 19,
   "id": "042c0019",
   "metadata": {},
   "outputs": [
    {
     "name": "stdout",
     "output_type": "stream",
     "text": [
      "I have eaten 99 burritos.\n"
     ]
    }
   ],
   "source": [
    "print( 'I have eaten ' + str(99) + ' burritos.')"
   ]
  }
 ],
 "metadata": {
  "kernelspec": {
   "display_name": "Python 3 (ipykernel)",
   "language": "python",
   "name": "python3"
  },
  "language_info": {
   "codemirror_mode": {
    "name": "ipython",
    "version": 3
   },
   "file_extension": ".py",
   "mimetype": "text/x-python",
   "name": "python",
   "nbconvert_exporter": "python",
   "pygments_lexer": "ipython3",
   "version": "3.9.7"
  }
 },
 "nbformat": 4,
 "nbformat_minor": 5
}
