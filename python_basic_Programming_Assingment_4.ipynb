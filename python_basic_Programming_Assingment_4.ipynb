{
 "cells": [
  {
   "cell_type": "markdown",
   "id": "6d972a24",
   "metadata": {},
   "source": [
    "__1.\tWrite a Python Program to Find the Factorial of a Number?__"
   ]
  },
  {
   "cell_type": "code",
   "execution_count": 1,
   "id": "abce3b0b",
   "metadata": {},
   "outputs": [
    {
     "name": "stdout",
     "output_type": "stream",
     "text": [
      "Enter number : 7\n",
      "Factorial of 7 is 5040\n"
     ]
    }
   ],
   "source": [
    "import math\n",
    "\n",
    "num = int(input('Enter number : '))\n",
    "\n",
    "print('Factorial of {} is {}'. format(num,math.factorial(num)))"
   ]
  },
  {
   "cell_type": "markdown",
   "id": "2da6271d",
   "metadata": {},
   "source": [
    "__2.\tWrite a Python Program to Display the multiplication Table?__"
   ]
  },
  {
   "cell_type": "code",
   "execution_count": 2,
   "id": "6fb87bb1",
   "metadata": {},
   "outputs": [
    {
     "name": "stdout",
     "output_type": "stream",
     "text": [
      "Display multiplication table of 10\n",
      "10 X 1 = 10\n",
      "10 X 2 = 20\n",
      "10 X 3 = 30\n",
      "10 X 4 = 40\n",
      "10 X 5 = 50\n",
      "10 X 6 = 60\n",
      "10 X 7 = 70\n",
      "10 X 8 = 80\n",
      "10 X 9 = 90\n",
      "10 X 10 = 100\n"
     ]
    }
   ],
   "source": [
    "num = int(input('Display multiplication table of '))\n",
    "\n",
    "for i in range(1, 11):\n",
    "    print('{} X {} = {}'.format(num, i , num*i))"
   ]
  },
  {
   "cell_type": "markdown",
   "id": "679656c2",
   "metadata": {},
   "source": [
    "__3.\tWrite a Python Program to Print the Fibonacci sequence?__"
   ]
  },
  {
   "cell_type": "code",
   "execution_count": 5,
   "id": "f3c500d6",
   "metadata": {},
   "outputs": [
    {
     "name": "stdout",
     "output_type": "stream",
     "text": [
      "Enter Number of term Fibonacci sequence : 5\n",
      "Fibonacci sequence:\n",
      "0\n",
      "1\n",
      "1\n",
      "2\n",
      "3\n"
     ]
    }
   ],
   "source": [
    "num = int(input('Enter Number of term Fibonacci sequence : '))\n",
    "\n",
    "def recur_fibo(n):\n",
    "    if n <= 1:\n",
    "        return n\n",
    "    else:\n",
    "        return (recur_fibo(n-1) + recur_fibo(n-2))\n",
    "\n",
    "if num <= 0:\n",
    "    print(\"Plese enter a positive integer\")\n",
    "else:\n",
    "    print(\"Fibonacci sequence:\")\n",
    "    \n",
    "    for i in range(num):\n",
    "        print(recur_fibo(i))"
   ]
  },
  {
   "cell_type": "markdown",
   "id": "f34be959",
   "metadata": {},
   "source": [
    "__4.\tWrite a Python Program to Check Armstrong Number?__"
   ]
  },
  {
   "cell_type": "code",
   "execution_count": 11,
   "id": "e3fbdaef",
   "metadata": {},
   "outputs": [
    {
     "name": "stdout",
     "output_type": "stream",
     "text": [
      "Enter Number : 2\n",
      "2 is an Armstrong number\n"
     ]
    }
   ],
   "source": [
    "num = int(input('Enter Number : '))\n",
    "\n",
    "order = len(str(num))\n",
    "\n",
    "i = 0\n",
    "\n",
    "# find the sum of the cube of each digit\n",
    "temp = num\n",
    "while temp > 0:\n",
    "    digit = temp % 10\n",
    "    i += digit ** order\n",
    "    temp //= 10\n",
    "\n",
    "# display the result\n",
    "if num == i:\n",
    "    print(num,\"is an Armstrong number\")\n",
    "else:\n",
    "    print(num,\"is not an Armstrong number\")"
   ]
  },
  {
   "cell_type": "markdown",
   "id": "d5ac0335",
   "metadata": {},
   "source": [
    "__5.\tWrite a Python Program to Find Armstrong Number in an Interval?__"
   ]
  },
  {
   "cell_type": "code",
   "execution_count": 15,
   "id": "6bb008c0",
   "metadata": {},
   "outputs": [
    {
     "name": "stdout",
     "output_type": "stream",
     "text": [
      "Enter lower band Number : 100\n",
      "Enter upper band Number : 2000\n",
      "125\n",
      "153\n",
      "216\n",
      "370\n",
      "371\n",
      "407\n",
      "729\n",
      "1296\n",
      "1634\n"
     ]
    }
   ],
   "source": [
    "lower_band = int(input('Enter lower band Number : '))\n",
    "upper_band = int(input('Enter upper band Number : '))\n",
    "\n",
    "for num in range(lower_band, upper_band + 1):\n",
    "    order = len(str(num))\n",
    "    i = 0\n",
    "    \n",
    "    temp = num\n",
    "    while temp > 0:\n",
    "        digit = temp % 10\n",
    "        i += digit ** order\n",
    "        temp //= 10\n",
    "        \n",
    "        if num == i:\n",
    "            print(num)"
   ]
  },
  {
   "cell_type": "markdown",
   "id": "2e347857",
   "metadata": {},
   "source": [
    "__6.\tWrite a Python Program to Find the Sum of Natural Numbers?__"
   ]
  },
  {
   "cell_type": "code",
   "execution_count": 17,
   "id": "513cd686",
   "metadata": {},
   "outputs": [
    {
     "name": "stdout",
     "output_type": "stream",
     "text": [
      "Enter number : 16\n",
      "The Sum of Natural number is 136.0\n"
     ]
    }
   ],
   "source": [
    "num = int(input('Enter number : '))\n",
    "\n",
    "sum_num = (num * (num + 1)) / 2\n",
    "\n",
    "print( 'The Sum of Natural number is {}'.format(sum_num))"
   ]
  },
  {
   "cell_type": "code",
   "execution_count": null,
   "id": "fb4f61bd",
   "metadata": {},
   "outputs": [],
   "source": []
  }
 ],
 "metadata": {
  "kernelspec": {
   "display_name": "Python 3 (ipykernel)",
   "language": "python",
   "name": "python3"
  },
  "language_info": {
   "codemirror_mode": {
    "name": "ipython",
    "version": 3
   },
   "file_extension": ".py",
   "mimetype": "text/x-python",
   "name": "python",
   "nbconvert_exporter": "python",
   "pygments_lexer": "ipython3",
   "version": "3.9.7"
  }
 },
 "nbformat": 4,
 "nbformat_minor": 5
}
